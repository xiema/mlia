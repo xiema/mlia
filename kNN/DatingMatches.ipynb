{
 "cells": [
  {
   "cell_type": "code",
   "execution_count": 6,
   "id": "2ee58087",
   "metadata": {},
   "outputs": [],
   "source": [
    "import os\n",
    "import numpy as np\n",
    "import pandas as pd\n",
    "import matplotlib.pyplot as plt\n",
    "from importlib import reload\n",
    "\n",
    "import kNN\n",
    "\n",
    "from sklearn.neighbors import KNeighborsClassifier\n",
    "from sklearn.preprocessing import MinMaxScaler"
   ]
  },
  {
   "cell_type": "code",
   "execution_count": 2,
   "id": "8fdc6839",
   "metadata": {},
   "outputs": [],
   "source": [
    "# load Dating dataset\n",
    "df_dating = pd.read_csv(\"datingTestSet2.txt\", delim_whitespace=True, header=None)\n",
    "\n",
    "ratio = 0.04\n",
    "n_test = int(df_dating.shape[0] * ratio)\n",
    "df_dating_train, df_dating_test = df_dating[:-n_test], df_dating[-n_test:]\n",
    "\n",
    "X_train, Y_train = df_dating_train.drop(columns=[3]).to_numpy(), df_dating_train[3].to_numpy()\n",
    "X_test, Y_test = df_dating_test.drop(columns=[3]).to_numpy(), df_dating_test[3].to_numpy()"
   ]
  },
  {
   "cell_type": "code",
   "execution_count": 28,
   "id": "8df9f3c5",
   "metadata": {},
   "outputs": [
    {
     "data": {
      "image/png": "[encoded data removed]",
      "text/plain": [
       "<Figure size 640x480 with 4 Axes>"
      ]
     },
     "metadata": {},
     "output_type": "display_data"
    }
   ],
   "source": [
    "fig, ax = plt.subplots(2, 2)\n",
    "ax = ax.flatten()\n",
    "for i, col in enumerate(df_dating.columns):\n",
    "    ax[i].set_title(col)\n",
    "    ax[i].hist(df_dating[col], bins=20)"
   ]
  },
  {
   "cell_type": "code",
   "execution_count": 4,
   "id": "28368bbd",
   "metadata": {},
   "outputs": [
    {
     "name": "stdout",
     "output_type": "stream",
     "text": [
      "Accuracy: 0.975\n",
      "5.07 ms ± 164 µs per loop (mean ± std. dev. of 7 runs, 100 loops each)\n"
     ]
    }
   ],
   "source": [
    "# Own impl\n",
    "model = kNN.KNNModel(3)\n",
    "model.fit(X_train, Y_train)\n",
    "print(f\"Accuracy: {model.score_accuracy(X_test, Y_test)}\")\n",
    "%timeit model.classify(X_test)"
   ]
  },
  {
   "cell_type": "code",
   "execution_count": 5,
   "id": "4e227690",
   "metadata": {},
   "outputs": [
    {
     "name": "stdout",
     "output_type": "stream",
     "text": [
      "Accuracy: 0.975\n",
      "1.44 ms ± 75.8 µs per loop (mean ± std. dev. of 7 runs, 1,000 loops each)\n"
     ]
    }
   ],
   "source": [
    "# sklearn impl\n",
    "scaler = MinMaxScaler()\n",
    "skmodel = KNeighborsClassifier(n_neighbors=3)\n",
    "skmodel.fit(scaler.fit_transform(X_train), Y_train)\n",
    "print(f\"Accuracy: {skmodel.score(scaler.transform(X_test), Y_test)}\")\n",
    "%timeit skmodel.predict(scaler.transform(X_test))"
   ]
  },
  {
   "cell_type": "code",
   "execution_count": 7,
   "id": "b0b0f364",
   "metadata": {},
   "outputs": [],
   "source": [
    "if not os.path.exists(\"data/wine-quality/winequalityN.csv\"):\n",
    "    !kaggle datasets download \"rajyellow46/wine-quality\" -p \"data/\"\n",
    "    !unzip \"data/wine-quality.zip\" -d \"data/wine-quality\""
   ]
  },
  {
   "cell_type": "code",
   "execution_count": 8,
   "id": "d852d8ab",
   "metadata": {},
   "outputs": [],
   "source": [
    "df_wine = pd.read_csv(\"data/wine-quality/winequalityN.csv\")\n",
    "df_wine = pd.get_dummies(df_wine)\n",
    "# replace empty cols with mean\n",
    "for col in df_wine.columns:\n",
    "    mean_val = df_wine[col].mean()\n",
    "    df_wine[col].fillna(mean_val, inplace=True)\n",
    "\n",
    "n = df_wine.count()[0]\n",
    "ratio = 0.05\n",
    "n_test = int(n * ratio)\n",
    "df_wine = df_wine.sample(frac=1, random_state=33)\n",
    "train_wine, test_wine = df_wine[:-n_test], df_wine[-n_test:]\n",
    "X_train, Y_train = train_wine.drop(columns=[\"quality\"]).to_numpy(dtype=float), train_wine[\"quality\"].to_numpy()\n",
    "X_test, Y_test = test_wine.drop(columns=[\"quality\"]).to_numpy(dtype=float), test_wine[\"quality\"].to_numpy()"
   ]
  },
  {
   "cell_type": "code",
   "execution_count": 9,
   "id": "f76d577c",
   "metadata": {},
   "outputs": [
    {
     "name": "stdout",
     "output_type": "stream",
     "text": [
      "Accuracy: 0.5432098765432098\n",
      "352 ms ± 14 ms per loop (mean ± std. dev. of 7 runs, 1 loop each)\n"
     ]
    }
   ],
   "source": [
    "# own impl\n",
    "model = kNN.KNNModel(5)\n",
    "model.fit(X_train, Y_train)\n",
    "print(f\"Accuracy: {model.score_accuracy(X_test, Y_test)}\")\n",
    "%timeit model.classify(X_test)"
   ]
  },
  {
   "cell_type": "code",
   "execution_count": 10,
   "id": "24cd216d",
   "metadata": {},
   "outputs": [
    {
     "name": "stdout",
     "output_type": "stream",
     "text": [
      "Accuracy: 0.5432098765432098\n",
      "24.2 ms ± 1.5 ms per loop (mean ± std. dev. of 7 runs, 10 loops each)\n"
     ]
    }
   ],
   "source": [
    "# sklearn impl\n",
    "scaler = MinMaxScaler()\n",
    "skmodel = KNeighborsClassifier(n_neighbors=5)\n",
    "skmodel.fit(scaler.fit_transform(X_train), Y_train)\n",
    "print(f\"Accuracy: {skmodel.score(scaler.transform(X_test), Y_test)}\")\n",
    "%timeit skmodel.predict(scaler.transform(X_test))"
   ]
  },
  {
   "cell_type": "code",
   "execution_count": null,
   "id": "127c311f",
   "metadata": {},
   "outputs": [],
   "source": []
  }
 ],
 "metadata": {
  "kernelspec": {
   "display_name": "Python 3 (ipykernel)",
   "language": "python",
   "name": "python3"
  },
  "language_info": {
   "codemirror_mode": {
    "name": "ipython",
    "version": 3
   },
   "file_extension": ".py",
   "mimetype": "text/x-python",
   "name": "python",
   "nbconvert_exporter": "python",
   "pygments_lexer": "ipython3",
   "version": "3.11.3"
  }
 },
 "nbformat": 4,
 "nbformat_minor": 5
}
