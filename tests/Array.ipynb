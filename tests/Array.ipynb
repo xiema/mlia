{
 "cells": [
  {
   "cell_type": "code",
   "execution_count": 1,
   "id": "9592374a",
   "metadata": {},
   "outputs": [],
   "source": [
    "import numpy as np\n",
    "import pandas as pd\n",
    "import timeit"
   ]
  },
  {
   "cell_type": "code",
   "execution_count": 2,
   "id": "65d4d310",
   "metadata": {},
   "outputs": [],
   "source": [
    "# array of values -> flatten to value with highest occurence\n",
    "idxs_np = np.random.randint(0, 10, (10000, 5))\n",
    "idxs_pd = pd.DataFrame(idxs_np)\n",
    "vals_np = np.array([str(i) for i in range(10)])\n",
    "vals_pd = pd.Series(vals_np)"
   ]
  },
  {
   "cell_type": "code",
   "execution_count": 10,
   "id": "4ae80dd5",
   "metadata": {},
   "outputs": [
    {
     "name": "stdout",
     "output_type": "stream",
     "text": [
      "<class 'numpy.ndarray'>\n",
      "<class 'numpy.ndarray'>\n"
     ]
    },
    {
     "data": {
      "text/plain": [
       "array([['1', '6', '6', '1', '9'],\n",
       "       ['3', '7', '1', '0', '1'],\n",
       "       ['8', '2', '5', '6', '9'],\n",
       "       ...,\n",
       "       ['6', '8', '3', '8', '4'],\n",
       "       ['1', '7', '3', '4', '4'],\n",
       "       ['2', '4', '4', '3', '2']], dtype='<U1')"
      ]
     },
     "execution_count": 10,
     "metadata": {},
     "output_type": "execute_result"
    }
   ],
   "source": [
    "print(type(idxs_np))\n",
    "print(type(vals_np))\n",
    "vals_np[idxs_np]"
   ]
  },
  {
   "cell_type": "code",
   "execution_count": 8,
   "id": "f5d1fb04",
   "metadata": {},
   "outputs": [
    {
     "name": "stdout",
     "output_type": "stream",
     "text": [
      "get_counts_0: 13.664165187000435\n",
      "get_counts_1: 24.321605771000577\n"
     ]
    }
   ],
   "source": [
    "def get_counts_0(X):\n",
    "    out = np.zeros(X.shape[0])\n",
    "    for i in range(len(X)):\n",
    "        k, c = np.unique(X[i], return_counts=True)\n",
    "        out[i] = k[c.argmax()]\n",
    "    return out\n",
    "\n",
    "def get_most(x):\n",
    "    k, c = np.unique(x, return_counts=True)\n",
    "    return k[c.argmax()]\n",
    "\n",
    "def get_counts_1(X):\n",
    "    return idxs_pd.apply(get_most, axis=1)\n",
    "\n",
    "t0 = timeit.timeit(\"get_counts_0(idxs_np)\", globals=globals(), number=100)\n",
    "t1 = timeit.timeit(\"get_counts_1(idxs_pd)\", globals=globals(), number=100)\n",
    "print(f\"get_counts_0: {t0}\")\n",
    "print(f\"get_counts_1: {t1}\")"
   ]
  }
 ],
 "metadata": {
  "kernelspec": {
   "display_name": "Python 3 (ipykernel)",
   "language": "python",
   "name": "python3"
  },
  "language_info": {
   "codemirror_mode": {
    "name": "ipython",
    "version": 3
   },
   "file_extension": ".py",
   "mimetype": "text/x-python",
   "name": "python",
   "nbconvert_exporter": "python",
   "pygments_lexer": "ipython3",
   "version": "3.11.3"
  }
 },
 "nbformat": 4,
 "nbformat_minor": 5
}
